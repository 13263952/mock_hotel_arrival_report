{
 "cells": [
  {
   "cell_type": "code",
   "execution_count": 1,
   "id": "6fb7b346",
   "metadata": {},
   "outputs": [
    {
     "name": "stdout",
     "output_type": "stream",
     "text": [
      "Guest list generated successfully and saved to guest_list.txt!\n"
     ]
    }
   ],
   "source": [
    "import datetime\n",
    "import random\n",
    "\n",
    "def generate_guest_list():\n",
    "    loyalty_levels = [\"Gold\", \"Silver\", \"Bronze\"]\n",
    "    purpose_of_stay = [\"Leisure\", \"Business\"]\n",
    "\n",
    "    # Generate guest data\n",
    "    guest_data = []\n",
    "    for i in range(1, 101):\n",
    "        arrival_date = datetime.datetime.now() + datetime.timedelta(days=random.randint(0, 10))\n",
    "        length_of_stay = random.randint(1, 4)\n",
    "        departure_date = arrival_date + datetime.timedelta(days=length_of_stay)\n",
    "        index_id = random.randint(700000, 900000)\n",
    "\n",
    "        guest = [\n",
    "            f\"Guest {i}\",\n",
    "            arrival_date.strftime(\"%m/%d/%Y\"),\n",
    "            f\"R{i}\",\n",
    "            \"Paid\" if random.random() < 0.5 else \"Unpaid\",\n",
    "            length_of_stay,\n",
    "            random.choice(purpose_of_stay),\n",
    "            random.choice(loyalty_levels),\n",
    "            departure_date.strftime(\"%m/%d/%Y\"),\n",
    "            index_id\n",
    "        ]\n",
    "        guest_data.append(guest)\n",
    "\n",
    "    # Write guest list to a text file\n",
    "    with open(\"guest_list.txt\", \"w\") as file:\n",
    "        file.write(\"Guest Name\\tArrival Date\\tRoom Number\\tPayment Status\\tLength of Stay\\tPurpose of Stay\\tLoyalty Level\\tDeparture Date\\tIndex ID\\n\")\n",
    "        for guest in guest_data:\n",
    "            file.write(\"\\t\".join(str(value) for value in guest) + \"\\n\")\n",
    "\n",
    "    print(\"Guest list generated successfully and saved to guest_list.txt!\")\n",
    "\n",
    "# Run the function to generate the guest list and save it to a text file\n",
    "generate_guest_list()\n"
   ]
  }
 ],
 "metadata": {
  "kernelspec": {
   "display_name": "Python 3 (ipykernel)",
   "language": "python",
   "name": "python3"
  },
  "language_info": {
   "codemirror_mode": {
    "name": "ipython",
    "version": 3
   },
   "file_extension": ".py",
   "mimetype": "text/x-python",
   "name": "python",
   "nbconvert_exporter": "python",
   "pygments_lexer": "ipython3",
   "version": "3.9.13"
  }
 },
 "nbformat": 4,
 "nbformat_minor": 5
}
