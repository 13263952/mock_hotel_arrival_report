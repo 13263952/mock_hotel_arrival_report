{
 "cells": [
  {
   "cell_type": "code",
   "execution_count": 6,
   "id": "6fb7b346",
   "metadata": {},
   "outputs": [
    {
     "name": "stdout",
     "output_type": "stream",
     "text": [
      "Guest list generated successfully and saved to guest_list.txt!\n"
     ]
    }
   ],
   "source": [
    "import datetime\n",
    "import random\n",
    "\n",
    "# List of fake first names and last names from different origins\n",
    "fake_first_names = [\n",
    "    \"John\", \"Emily\", \"Samantha\", \"Mohammed\", \"Luis\", \"Hiroshi\", \"Maria\", \"Isabella\", \"Ananya\",\n",
    "    \"Yuki\", \"Nathan\", \"Ella\", \"Sofia\", \"Aarav\", \"Alexandre\", \"Yusuke\", \"Natasha\", \"Arjun\", \"Liam\",\n",
    "    \"Amelia\",  # Add more first names here for greater diversity\n",
    "]\n",
    "\n",
    "# List of fake last names, including at least one last name for each letter of the American alphabet\n",
    "fake_last_names = [\n",
    "    \"Adams\", \"Brown\", \"Clark\", \"Davis\", \"Evans\", \"Frank\", \"Gomez\", \"Hall\", \"Irwin\",\n",
    "    \"Johnson\", \"Klein\", \"Lee\", \"Miller\", \"Nguyen\", \"O'Connor\", \"Patel\", \"Quinn\",\n",
    "    \"Rodriguez\", \"Smith\", \"Taylor\", \"Ueda\", \"Vargas\", \"Williams\", \"Xiong\", \"Yang\",\n",
    "    \"Zhang\",  # Add more last names here for greater diversity\n",
    "]\n",
    "\n",
    "def generate_guest_list():\n",
    "    loyalty_levels = [\"Gold\", \"Silver\", \"Bronze\"]\n",
    "    purpose_of_stay = [\"Leisure\", \"Business\"]\n",
    "\n",
    "    # Generate guest data\n",
    "    guest_data = []\n",
    "    for i in range(1, 301):\n",
    "        # Generate random arrival date within the next three months\n",
    "        current_date = datetime.datetime.now()\n",
    "        max_days_ahead = 90  # Three months (90 days)\n",
    "        arrival_date = current_date + datetime.timedelta(days=random.randint(0, max_days_ahead))\n",
    "\n",
    "        # Generate random length of stay (up to a maximum of 7 days)\n",
    "        length_of_stay = random.randint(1, 7)\n",
    "        departure_date = arrival_date + datetime.timedelta(days=length_of_stay)\n",
    "        index_id = random.randint(700000, 900000)\n",
    "\n",
    "        first_name = random.choice(fake_first_names)\n",
    "        last_name = random.choice(fake_last_names)\n",
    "\n",
    "        guest = [\n",
    "            f\"{first_name} {last_name}\",\n",
    "            arrival_date.strftime(\"%m/%d/%Y\"),\n",
    "            f\"R{i}\",\n",
    "            \"Paid\" if random.random() < 0.5 else \"Unpaid\",\n",
    "            length_of_stay,\n",
    "            random.choice(purpose_of_stay),\n",
    "            random.choice(loyalty_levels),\n",
    "            departure_date.strftime(\"%m/%d/%Y\"),\n",
    "            index_id\n",
    "        ]\n",
    "        guest_data.append(guest)\n",
    "\n",
    "    # Write guest list to a text file\n",
    "    with open(\"guest_list.txt\", \"w\") as file:\n",
    "        file.write(\"Guest Name\\tArrival Date\\tRoom Number\\tPayment Status\\tLength of Stay\\tPurpose of Stay\\tLoyalty Level\\tDeparture Date\\tIndex ID\\n\")\n",
    "        for guest in guest_data:\n",
    "            file.write(\"\\t\".join(str(value) for value in guest) + \"\\n\")\n",
    "\n",
    "    print(\"Guest list generated successfully and saved to guest_list.txt!\")\n",
    "\n",
    "# Run the function to generate the guest list and save it to a text file\n",
    "generate_guest_list()\n"
   ]
  }
 ],
 "metadata": {
  "kernelspec": {
   "display_name": "Python 3 (ipykernel)",
   "language": "python",
   "name": "python3"
  },
  "language_info": {
   "codemirror_mode": {
    "name": "ipython",
    "version": 3
   },
   "file_extension": ".py",
   "mimetype": "text/x-python",
   "name": "python",
   "nbconvert_exporter": "python",
   "pygments_lexer": "ipython3",
   "version": "3.9.13"
  }
 },
 "nbformat": 4,
 "nbformat_minor": 5
}
